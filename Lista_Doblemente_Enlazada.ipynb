{
  "nbformat": 4,
  "nbformat_minor": 0,
  "metadata": {
    "colab": {
      "name": "Lista Circular.ipynb",
      "provenance": [],
      "collapsed_sections": [],
      "authorship_tag": "ABX9TyNHBbS8RT63hOSU4Uv/wg6F",
      "include_colab_link": true
    },
    "kernelspec": {
      "name": "python3",
      "display_name": "Python 3"
    },
    "language_info": {
      "name": "python"
    }
  },
  "cells": [
    {
      "cell_type": "markdown",
      "metadata": {
        "id": "view-in-github",
        "colab_type": "text"
      },
      "source": [
        "<a href=\"https://colab.research.google.com/github/isabh17/tareas-ipc2/blob/main/Lista_Doblemente_Enlazada.ipynb\" target=\"_parent\"><img src=\"https://colab.research.google.com/assets/colab-badge.svg\" alt=\"Open In Colab\"/></a>"
      ]
    },
    {
      "cell_type": "markdown",
      "metadata": {
        "id": "m47cWGscJwVz"
      },
      "source": [
        "***Definición Clase Estudiante***"
      ]
    },
    {
      "cell_type": "code",
      "metadata": {
        "id": "dTpfraOhKDSt"
      },
      "source": [
        "class estudiante:\n",
        "  def __init__(self, carne, nombre, edad, direccion, telefono, email, carrera, puesto):\n",
        "    self.carne = carne\n",
        "    self.nombre = nombre\n",
        "    self.edad = edad\n",
        "    self.direccion = direccion\n",
        "    self.telefono = telefono\n",
        "    self.email = email\n",
        "    self.carrera = carrera\n",
        "    self.puesto = puesto"
      ],
      "execution_count": 1,
      "outputs": []
    },
    {
      "cell_type": "markdown",
      "metadata": {
        "id": "2YonTHrbKOMw"
      },
      "source": [
        "**Defiición de clase Nodo**"
      ]
    },
    {
      "cell_type": "code",
      "metadata": {
        "id": "gRE7qJ88KQuo"
      },
      "source": [
        "class nodo:\n",
        "  def __init__(self, estudiante=None, siguiente=None, anterior=None):\n",
        "    self.estudiante = estudiante\n",
        "    self.siguiente = siguiente\n",
        "    self.anterior = anterior"
      ],
      "execution_count": 2,
      "outputs": []
    },
    {
      "cell_type": "markdown",
      "metadata": {
        "id": "RZ3i7vWJKUJg"
      },
      "source": [
        "**Definición de la Clase Lista Doblomenete Enlazada**"
      ]
    },
    {
      "cell_type": "code",
      "metadata": {
        "id": "8HAPtlv9KfcP"
      },
      "source": [
        "class lista_doble:\n",
        "  def __init__(self):\n",
        "    self.primero = None\n",
        "\n",
        "  def insertar(self, estudiante):\n",
        "    if self.primero is None:\n",
        "      self.primero = nodo(estudiante=estudiante)\n",
        "    else:\n",
        "      actual = nodo(estudiante=estudiante, siguiente=self.primero)\n",
        "      self.primero.anterior = actual\n",
        "      self.primero = actual\n",
        "  \n",
        "  def recorrer(self):\n",
        "    if self.primero is None:\n",
        "      return\n",
        "    actual = self.primero\n",
        "    print(\"carne:\", actual.estudiante.carne, \"nombre:\", actual.estudiante.nombre, \"email:\", actual.estudiante.email, \"->\")\n",
        "    while actual.siguiente:\n",
        "      actual = actual.siguiente\n",
        "      print(\"carne:\", actual.estudiante.carne, \"nombre:\", actual.estudiante.nombre, \"email:\", actual.estudiante.email, \"->\")\n",
        "  \n",
        "  def eliminar(self, carne):\n",
        "    actual = self.primero\n",
        "    while actual:\n",
        "      if actual.estudiante.carne == carne:\n",
        "        if actual.anterior:\n",
        "          if actual.siguiente:\n",
        "            actual.anterior.siguiente = actual.siguiente\n",
        "            actual.siguiente.anterior = actual.anterior\n",
        "          else:\n",
        "            actual.anterior.siguiente = None\n",
        "            actual.anterior = None\n",
        "        else:\n",
        "          if actual.siguiente:\n",
        "            self.primero = actual.siguiente\n",
        "            actual.siguiente.anterior = None\n",
        "          else:\n",
        "            self.primero = None\n",
        "        return True\n",
        "      else:\n",
        "        actual = actual.siguiente\n",
        "    return False\n",
        "  \n",
        "  def buscar(self, carne):\n",
        "    actual = self.primero\n",
        "\n",
        "    while actual and actual.estudiante.carne != carne:\n",
        "      actual = actual.siguiente\n",
        "    \n",
        "    if actual is None:\n",
        "      print('El nodo no existe en la lista')\n",
        "    elif actual:\n",
        "      print(\"carne:\", actual.estudiante.carne, \"nombre:\", actual.estudiante.nombre, \"email:\", actual.estudiante.email)"
      ],
      "execution_count": 3,
      "outputs": []
    },
    {
      "cell_type": "markdown",
      "metadata": {
        "id": "2---roawKlE3"
      },
      "source": [
        "**Creación de objetos Estudiantes**"
      ]
    },
    {
      "cell_type": "code",
      "metadata": {
        "id": "AuUjbGbxKokT"
      },
      "source": [
        "e1 = estudiante(201915059, \"Gerson Ortiz\", 20, \"9 calle 10.02 zona 1\", 24400101, \"gerson.ortiz@gmail.com\", \"Ingeniería en Sistemas\", \"Programador Jr\")\n",
        "e2 = estudiante(201915860, \"Karen Hurtarte\", 21, \"7 calle 10.02 zona 1\", 24400101, \"karen.hurarte@gmail.com\", \"Ingeniería en Sistemas\", \"Programador Jr\")\n",
        "e3 = estudiante(201915861, \"Luis Mendez\", 21, \"8 calle 10.02 zona 1\", 24400101, \"luis.mendez@gmail.com\", \"Ingeniería en Sistemas\", \"Programador Jr\")"
      ],
      "execution_count": 4,
      "outputs": []
    },
    {
      "cell_type": "markdown",
      "metadata": {
        "id": "-ViC_PVXKtJY"
      },
      "source": [
        "**Insercion de los objetos**"
      ]
    },
    {
      "cell_type": "code",
      "metadata": {
        "id": "tXnTmFuFKvOc"
      },
      "source": [
        "lista_d = lista_doble()\n",
        "lista_d.insertar(e1)\n",
        "lista_d.insertar(e2)\n",
        "lista_d.insertar(e3)"
      ],
      "execution_count": 5,
      "outputs": []
    },
    {
      "cell_type": "markdown",
      "metadata": {
        "id": "qXQbuaMBK2H3"
      },
      "source": [
        "**Recorrer Lista**"
      ]
    },
    {
      "cell_type": "code",
      "metadata": {
        "colab": {
          "base_uri": "https://localhost:8080/"
        },
        "id": "uWtDqMSEK6uz",
        "outputId": "141aa308-390d-4773-996e-c2cb5f75816e"
      },
      "source": [
        "lista_d.recorrer()"
      ],
      "execution_count": 6,
      "outputs": [
        {
          "output_type": "stream",
          "text": [
            "carne: 201915861 nombre: Luis Mendez email: luis.mendez@gmail.com ->\n",
            "carne: 201915860 nombre: Karen Hurtarte email: karen.hurarte@gmail.com ->\n",
            "carne: 201915059 nombre: Gerson Ortiz email: gerson.ortiz@gmail.com ->\n"
          ],
          "name": "stdout"
        }
      ]
    },
    {
      "cell_type": "markdown",
      "metadata": {
        "id": "WyFPAlLkRlGg"
      },
      "source": [
        "**Eliminar el nodo del medio de la lista**"
      ]
    },
    {
      "cell_type": "code",
      "metadata": {
        "colab": {
          "base_uri": "https://localhost:8080/"
        },
        "id": "E0VTo732Rmfp",
        "outputId": "eeed7b3b-3b0b-4958-8f51-2b4bc430e7ce"
      },
      "source": [
        "lista_d.eliminar(201915860)\n",
        "lista_d.recorrer()"
      ],
      "execution_count": 7,
      "outputs": [
        {
          "output_type": "stream",
          "text": [
            "carne: 201915861 nombre: Luis Mendez email: luis.mendez@gmail.com ->\n",
            "carne: 201915059 nombre: Gerson Ortiz email: gerson.ortiz@gmail.com ->\n"
          ],
          "name": "stdout"
        }
      ]
    },
    {
      "cell_type": "markdown",
      "metadata": {
        "id": "TMpcdAiNRx0W"
      },
      "source": [
        "**Eliminar el último nodo de la lista**"
      ]
    },
    {
      "cell_type": "code",
      "metadata": {
        "colab": {
          "base_uri": "https://localhost:8080/"
        },
        "id": "2cWEohNyRtBY",
        "outputId": "3c778e42-a521-4574-f875-c76dbd4b7f5d"
      },
      "source": [
        "lista_d.eliminar(201915059)\n",
        "lista_d.recorrer()"
      ],
      "execution_count": 8,
      "outputs": [
        {
          "output_type": "stream",
          "text": [
            "carne: 201915861 nombre: Luis Mendez email: luis.mendez@gmail.com ->\n"
          ],
          "name": "stdout"
        }
      ]
    },
    {
      "cell_type": "markdown",
      "metadata": {
        "id": "d7_6NilSK-As"
      },
      "source": [
        "***Eliminar un nodo de la lista***"
      ]
    },
    {
      "cell_type": "code",
      "metadata": {
        "colab": {
          "base_uri": "https://localhost:8080/"
        },
        "id": "tPZwCYy3K-jn",
        "outputId": "e115b98e-978e-4e17-a55f-052366b0d475"
      },
      "source": [
        "lista_d.eliminar(201015061)\n",
        "lista_d.recorrer()"
      ],
      "execution_count": 9,
      "outputs": [
        {
          "output_type": "stream",
          "text": [
            "carne: 201915861 nombre: Luis Mendez email: luis.mendez@gmail.com ->\n"
          ],
          "name": "stdout"
        }
      ]
    },
    {
      "cell_type": "markdown",
      "metadata": {
        "id": "qY5L9d2NP1yh"
      },
      "source": [
        "**Buscar un nodo de la lista**"
      ]
    },
    {
      "cell_type": "code",
      "metadata": {
        "colab": {
          "base_uri": "https://localhost:8080/"
        },
        "id": "RkJLlWfMP4Ei",
        "outputId": "364f7d75-14d7-4259-c870-1d2443eafd13"
      },
      "source": [
        "lista_d.buscar(201915860)\n",
        "lista_d.recorrer()\n"
      ],
      "execution_count": 10,
      "outputs": [
        {
          "output_type": "stream",
          "text": [
            "El nodo no existe en la lista\n",
            "carne: 201915861 nombre: Luis Mendez email: luis.mendez@gmail.com ->\n"
          ],
          "name": "stdout"
        }
      ]
    }
  ]
}