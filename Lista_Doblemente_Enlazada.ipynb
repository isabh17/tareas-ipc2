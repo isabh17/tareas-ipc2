{
  "nbformat": 4,
  "nbformat_minor": 0,
  "metadata": {
    "colab": {
      "name": "Lista Circular.ipynb",
      "provenance": [],
      "authorship_tag": "ABX9TyP+gejmbPQmSR+Nq5tzuvtU",
      "include_colab_link": true
    },
    "kernelspec": {
      "name": "python3",
      "display_name": "Python 3"
    },
    "language_info": {
      "name": "python"
    }
  },
  "cells": [
    {
      "cell_type": "markdown",
      "metadata": {
        "id": "view-in-github",
        "colab_type": "text"
      },
      "source": [
        "<a href=\"https://colab.research.google.com/github/isabh17/tareas-ipc2/blob/main/Lista_Doblemente_Enlazada.ipynb\" target=\"_parent\"><img src=\"https://colab.research.google.com/assets/colab-badge.svg\" alt=\"Open In Colab\"/></a>"
      ]
    },
    {
      "cell_type": "markdown",
      "metadata": {
        "id": "m47cWGscJwVz"
      },
      "source": [
        "***Definición Clase Estudiante***"
      ]
    },
    {
      "cell_type": "code",
      "metadata": {
        "id": "dTpfraOhKDSt"
      },
      "source": [
        "class Estudiante:\n",
        "  def _init_(self, Carnet, Nombre, Edad, Address, Phone, Email, Carrera, Puesto):\n",
        "    self.Carnet = Carnet\n",
        "    self.Nombre = Nombre\n",
        "    self.Edad = Edad\n",
        "    self.Address = Address\n",
        "    self.Phone = Phone\n",
        "    self.Email = Email\n",
        "    self.Carrera = Carrera\n",
        "    self.Puesto = Puesto"
      ],
      "execution_count": null,
      "outputs": []
    },
    {
      "cell_type": "markdown",
      "metadata": {
        "id": "2YonTHrbKOMw"
      },
      "source": [
        "**Defiición de clase Nodo**"
      ]
    },
    {
      "cell_type": "code",
      "metadata": {
        "id": "gRE7qJ88KQuo"
      },
      "source": [
        "class Nodo:\n",
        "  def _init_(self, Estudiante = None, Siguiente = None, Anterior = None):\n",
        "    self.Estudiante = Estudiante\n",
        "    self.Siguiente = Siguiente\n",
        "    self.Anterior = Anterior"
      ],
      "execution_count": null,
      "outputs": []
    },
    {
      "cell_type": "markdown",
      "metadata": {
        "id": "RZ3i7vWJKUJg"
      },
      "source": [
        "**Definición de la Clase Lista Doblomenete Enlazada**"
      ]
    },
    {
      "cell_type": "code",
      "metadata": {
        "id": "8HAPtlv9KfcP"
      },
      "source": [
        "class lista_doble:\n",
        "  def _init_(self):\n",
        "    self.Primero = None\n",
        "\n",
        "  def insertar(self, Estudiante):\n",
        "    if self.Primero is None:\n",
        "      self.Primero = Nodo(Estudiante=Estudiante)\n",
        "    else:\n",
        "      actual = Nodo(Estudiante=Estudiante,Siguiente=self.Primero)\n",
        "      self.Primero.Anterior = actual\n",
        "      self.Primero = actual\n",
        "\n",
        "  def recorrer(self):\n",
        "    if self.Primero is None:\n",
        "      return\n",
        "    actual = self.Primero\n",
        "    print(f\"Carnet: {actual.Estudiante.Carnet}, Nombre: {actual.Estudiante.Nombre}, Email: {actual.Estudiante.Email}\")\n",
        "    while actual.Siguiente:\n",
        "      actual = actual.Siguiente\n",
        "      print(f\"Carnet: {actual.Estudiante.Carnet}, Nombre: {actual.Estudiante.Nombre}, Email: {actual.Estudiante.Email}\")\n",
        "\n",
        "  def eliminar(self,Carnet):\n",
        "    actual = self.Primero\n",
        "    while actual:\n",
        "      if actual.Estudiante.Carnet == Carnet:\n",
        "        if actual.Anterior:\n",
        "          if actual.Siguiente:\n",
        "            actual.Anterior.Siguiente = actual.Siguiente\n",
        "            actual.Siguiente.Anterior = actual.Anterior\n",
        "          else:\n",
        "            actual.Anterior.Siguiente = None\n",
        "            actual.Anterior = None\n",
        "        else:\n",
        "          if actual.Siguiente:\n",
        "            self.Primero = actual.Siguiente\n",
        "            actual.Siguiente.Anterior = None\n",
        "          else:\n",
        "            self.Primero = None\n",
        "        return True\n",
        "      else:\n",
        "        actual = actual.Siguiente\n",
        "    return False"
      ],
      "execution_count": null,
      "outputs": []
    },
    {
      "cell_type": "markdown",
      "metadata": {
        "id": "2---roawKlE3"
      },
      "source": [
        "**Creación de objetos Estudiantes**"
      ]
    },
    {
      "cell_type": "code",
      "metadata": {
        "id": "AuUjbGbxKokT"
      },
      "source": [
        "e1 = Estudiante(201015050, \"Gerson Ortiz\", 20, \"0 calle 18-82 zona 1\", 24400101,\"gerson.ortiz@gmail.com\", \"Ing. Sistemas\", \"Programador Jr.\")\n",
        "e2 = Estudiante(201015060, \"Karen Hurtarte\", 21, \"7 calle 18-82 zona 1\", 24400102,\"karen.hurtarte@gmail.com\", \"Ing. Sistemas\", \"Programador Jr.\")\n",
        "e3 = Estudiante(201015061, \"Luis Mendez\", 22, \"8 calle 18-82 zona 1\", 24400101,\"luis.mendez@gmail.com\", \"Ing. Sistemas\", \"Programador Jr.\")"
      ],
      "execution_count": null,
      "outputs": []
    },
    {
      "cell_type": "markdown",
      "metadata": {
        "id": "-ViC_PVXKtJY"
      },
      "source": [
        "**Insercion de los objetos**"
      ]
    },
    {
      "cell_type": "code",
      "metadata": {
        "id": "tXnTmFuFKvOc"
      },
      "source": [
        "lista_d = lista_doble()\n",
        "lista_d.insertar(e1)\n",
        "lista_d.insertar(e2)\n",
        "lista_d.insertar(e3)"
      ],
      "execution_count": null,
      "outputs": []
    },
    {
      "cell_type": "markdown",
      "metadata": {
        "id": "qXQbuaMBK2H3"
      },
      "source": [
        "**Recorrer Lista**"
      ]
    },
    {
      "cell_type": "code",
      "metadata": {
        "id": "uWtDqMSEK6uz"
      },
      "source": [
        "lista_d.recorrer()"
      ],
      "execution_count": null,
      "outputs": []
    },
    {
      "cell_type": "markdown",
      "metadata": {
        "id": "d7_6NilSK-As"
      },
      "source": [
        "***Eliminar un nodo de la lista***"
      ]
    },
    {
      "cell_type": "code",
      "metadata": {
        "id": "tPZwCYy3K-jn"
      },
      "source": [
        "lista_d.eliminar(201015061)\n",
        "lista_d.recorrer()"
      ],
      "execution_count": null,
      "outputs": []
    }
  ]
}