{
  "nbformat": 4,
  "nbformat_minor": 0,
  "metadata": {
    "colab": {
      "name": "Listas Circulares.ipynb",
      "provenance": [],
      "collapsed_sections": [],
      "authorship_tag": "ABX9TyN4WH3V76vv3OdQgp+0GADd",
      "include_colab_link": true
    },
    "kernelspec": {
      "name": "python3",
      "display_name": "Python 3"
    },
    "language_info": {
      "name": "python"
    }
  },
  "cells": [
    {
      "cell_type": "markdown",
      "metadata": {
        "id": "view-in-github",
        "colab_type": "text"
      },
      "source": [
        "<a href=\"https://colab.research.google.com/github/isabh17/tareas-ipc2/blob/main/Listas_Circulares.ipynb\" target=\"_parent\"><img src=\"https://colab.research.google.com/assets/colab-badge.svg\" alt=\"Open In Colab\"/></a>"
      ]
    },
    {
      "cell_type": "markdown",
      "metadata": {
        "id": "E6XnoBERL2ia"
      },
      "source": [
        "**Definición de la clase lista circular**"
      ]
    },
    {
      "cell_type": "markdown",
      "metadata": {
        "id": "1soDtQ5oN1Bl"
      },
      "source": [
        "**Definición de la clase Estudiante**"
      ]
    },
    {
      "cell_type": "code",
      "metadata": {
        "id": "Oob7T86bN4rw"
      },
      "source": [
        "class estudiante:\n",
        "  def __init__(self, carne, nombre, edad, direccion, telefono, email, carrera, puesto):\n",
        "    self.carne = carne\n",
        "    self.nombre = nombre \n",
        "    self. edad = edad\n",
        "    self.direccion = direccion\n",
        "    self.telefono = telefono\n",
        "    self.email = email\n",
        "    self.carrera = carrera\n",
        "    self.puesto = puesto"
      ],
      "execution_count": null,
      "outputs": []
    },
    {
      "cell_type": "markdown",
      "metadata": {
        "id": "TeZaHMBIN9nn"
      },
      "source": [
        "**Definición de la clase Nodo**"
      ]
    },
    {
      "cell_type": "code",
      "metadata": {
        "id": "GekHurcMN7vC"
      },
      "source": [
        "class nodo:\n",
        "  def __init__(self, estudiante=None, siguiente=None):\n",
        "    self.estudiante = estudiante\n",
        "    self.siguiente = siguiente"
      ],
      "execution_count": null,
      "outputs": []
    },
    {
      "cell_type": "markdown",
      "metadata": {
        "id": "rMke6ASsipMy"
      },
      "source": [
        "**Definición de la clase Lista Circular**"
      ]
    },
    {
      "cell_type": "code",
      "metadata": {
        "id": "HcknMYaFLTLu"
      },
      "source": [
        "class lista_circular:\n",
        "  def __init__(self):\n",
        "    self.primero = None\n",
        "\n",
        "  def insertar(self, estudiante):\n",
        "    if self.primero is None:\n",
        "      self.primero = nodo(estudiante = estudiante)\n",
        "      self.primero.siguiente = self.primero\n",
        "    else:\n",
        "      actual = nodo(estudiante = estudiante, siguiente = self.primero.siguiente)\n",
        "      self.primero.siguiente = actual\n",
        "\n",
        "  def recorrer(self):\n",
        "    if self.primero is None:\n",
        "      return\n",
        "    actual = self.primero\n",
        "    print('carne: ', actual.estudiante.carne, ' nombre: ', actual.estudiante.nombre, 'email: ', actual.estudiante.email, '-->')\n",
        "    while actual.siguiente != self.primero:\n",
        "      actual = actual.siguiente\n",
        "      print('carne: ', actual.estudiante.carne, ' nombre: ', actual.estudiante.nombre, 'email: ', actual.estudiante.email, '-->')\n",
        "\n",
        "  def eliminar(self, carne):\n",
        "    actual = self.primero\n",
        "    anterior = None\n",
        "    no_encontrado = False\n",
        "    \n",
        "    while actual and actual.estudiante.carne != carne\n",
        "      anterior = actual\n",
        "      actual = actual.siguiente\n",
        "      if actual == self.primero:\n",
        "        no_encontrado = True\n",
        "        break\n",
        "  \n",
        "  if not no_encontrado:\n",
        "    if anterior is not None:\n",
        "      anterior.siguiente = actual.siguiente\n",
        "    else:\n",
        "      while actual.siguiente != self.primero:\n",
        "        actual = actual.siguiente\n",
        "      actual.siguiente = self.primero.siguiente\n",
        "      self.primero = self.primero.siguiente\n",
        "\n",
        "    \n",
        "  def is_exist(self, carne):\n",
        "    actual = self.primero\n",
        "    while actual is not None:\n",
        "        if actual.carne == carne:\n",
        "            return True\n",
        "        elif actual.siguiente == self.primero:\n",
        "            return False\n",
        "        else:\n",
        "            actual = actual.siguiente\n",
        "    return False\n"
      ],
      "execution_count": null,
      "outputs": []
    },
    {
      "cell_type": "markdown",
      "metadata": {
        "id": "VkYbFP-qOZVl"
      },
      "source": [
        "**Creación de objetos Estudiante**"
      ]
    },
    {
      "cell_type": "code",
      "metadata": {
        "id": "M1DN44MH1-cf"
      },
      "source": [
        "e1 = estudiante(201915059, 'Michelle España', 24, 'Zona 2 ', 24245555, 'Micheleespaña@gmail.com', 'Ingenieria en Sistemas', 'Programadora')\n",
        "e2 = estudiante(201915060, 'Karen Hurtarte', 25, 'Zona 3 ', 159635445, 'Karen@gmail.com', 'Ingenieria en Sistemas', 'TI')\n",
        "e3 = estudiante(201915061, 'Alison Silvestre', 23, 'Zona 1 ', 12345687, 'Alison@gmail.com', 'Ingenieria en Sistemas', 'Programadora')"
      ],
      "execution_count": null,
      "outputs": []
    },
    {
      "cell_type": "markdown",
      "metadata": {
        "id": "Rif3xiFFOn3y"
      },
      "source": [
        "**Inserción**"
      ]
    },
    {
      "cell_type": "code",
      "metadata": {
        "id": "yUvtufxKOphK"
      },
      "source": [
        "lista_c = lista_circular()\n",
        "lista_c.insertar(e1)\n",
        "lista_c.insertar(e2)\n",
        "lista_c.insertar(e2)"
      ],
      "execution_count": null,
      "outputs": []
    },
    {
      "cell_type": "markdown",
      "metadata": {
        "id": "qLoVhYI3OvRm"
      },
      "source": [
        ""
      ]
    },
    {
      "cell_type": "code",
      "metadata": {
        "id": "VUbz4NMMu0AV",
        "colab": {
          "base_uri": "https://localhost:8080/"
        },
        "outputId": "200cb554-89db-4744-f428-fe4e28deaf36"
      },
      "source": [
        "lista_c.recorrer()"
      ],
      "execution_count": null,
      "outputs": [
        {
          "output_type": "stream",
          "text": [
            "carne:  201915059  nombre:  Michelle España email:  Micheleespaña@gmail.com -->\n",
            "carne:  201915060  nombre:  Karen Hurtarte email:  Karen@gmail.com -->\n",
            "carne:  201915060  nombre:  Karen Hurtarte email:  Karen@gmail.com -->\n"
          ],
          "name": "stdout"
        }
      ]
    }
  ]
}