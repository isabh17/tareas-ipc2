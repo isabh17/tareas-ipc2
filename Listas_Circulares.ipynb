{
  "nbformat": 4,
  "nbformat_minor": 0,
  "metadata": {
    "colab": {
      "name": "Listas Circulares.ipynb",
      "provenance": [],
      "collapsed_sections": [],
      "authorship_tag": "ABX9TyMG6e7L7cyqmNBjPHsS0CcP",
      "include_colab_link": true
    },
    "kernelspec": {
      "name": "python3",
      "display_name": "Python 3"
    },
    "language_info": {
      "name": "python"
    }
  },
  "cells": [
    {
      "cell_type": "markdown",
      "metadata": {
        "id": "view-in-github",
        "colab_type": "text"
      },
      "source": [
        "<a href=\"https://colab.research.google.com/github/isabh17/tareas-ipc2/blob/main/Listas_Circulares.ipynb\" target=\"_parent\"><img src=\"https://colab.research.google.com/assets/colab-badge.svg\" alt=\"Open In Colab\"/></a>"
      ]
    },
    {
      "cell_type": "markdown",
      "metadata": {
        "id": "E6XnoBERL2ia"
      },
      "source": [
        "**Definición de la clase lista circular**"
      ]
    },
    {
      "cell_type": "markdown",
      "metadata": {
        "id": "1soDtQ5oN1Bl"
      },
      "source": [
        "**Definición de la clase Estudiante**"
      ]
    },
    {
      "cell_type": "code",
      "metadata": {
        "id": "Oob7T86bN4rw"
      },
      "source": [
        "class estudiante:\n",
        "  def __init__(self, carne, nombre, edad, direccion, telefono, email, carrera, puesto):\n",
        "    self.carne = carne\n",
        "    self.nombre = nombre \n",
        "    self. edad = edad\n",
        "    self.direccion = direccion\n",
        "    self.telefono = telefono\n",
        "    self.email = email\n",
        "    self.carrera = carrera\n",
        "    self.puesto = puesto"
      ],
      "execution_count": 1,
      "outputs": []
    },
    {
      "cell_type": "markdown",
      "metadata": {
        "id": "TeZaHMBIN9nn"
      },
      "source": [
        "**Definición de la clase Nodo**"
      ]
    },
    {
      "cell_type": "code",
      "metadata": {
        "id": "GekHurcMN7vC"
      },
      "source": [
        "class nodo:\n",
        "  def __init__(self, estudiante=None, siguiente=None):\n",
        "    self.estudiante = estudiante\n",
        "    self.siguiente = siguiente"
      ],
      "execution_count": 2,
      "outputs": []
    },
    {
      "cell_type": "markdown",
      "metadata": {
        "id": "rMke6ASsipMy"
      },
      "source": [
        "**Definición de la clase Lista Circular**"
      ]
    },
    {
      "cell_type": "code",
      "metadata": {
        "id": "HcknMYaFLTLu"
      },
      "source": [
        "class lista_circular:\n",
        "  def __init__(self):\n",
        "    self.primero = None\n",
        "\n",
        "  def insertar(self, estudiante):\n",
        "    if self.primero is None:\n",
        "      self.primero = nodo(estudiante = estudiante)\n",
        "      self.primero.siguiente = self.primero\n",
        "    else:\n",
        "      actual = nodo(estudiante = estudiante, siguiente = self.primero.siguiente)\n",
        "      self.primero.siguiente = actual\n",
        "\n",
        "  def recorrer(self):\n",
        "    if self.primero is None:\n",
        "      return\n",
        "    actual = self.primero\n",
        "    print('carne: ', actual.estudiante.carne, ' nombre: ', actual.estudiante.nombre, 'email: ', actual.estudiante.email, '-->')\n",
        "    while actual.siguiente != self.primero:\n",
        "      actual = actual.siguiente\n",
        "      print('carne: ', actual.estudiante.carne, ' nombre: ', actual.estudiante.nombre, 'email: ', actual.estudiante.email, '-->')"
      ],
      "execution_count": 3,
      "outputs": []
    },
    {
      "cell_type": "markdown",
      "metadata": {
        "id": "VkYbFP-qOZVl"
      },
      "source": [
        "**Creación de objetos Estudiante**"
      ]
    },
    {
      "cell_type": "code",
      "metadata": {
        "id": "M1DN44MH1-cf"
      },
      "source": [
        "e1 = estudiante(201915059, 'Michelle España', 24, 'Zona 2 ', 24245555, 'Micheleespaña@gmail.com', 'Ingenieria en Sistemas', 'Programadora')\n",
        "e2 = estudiante(201915060, 'Karen Hurtarte', 25, 'Zona 3 ', 159635445, 'Karen@gmail.com', 'Ingenieria en Sistemas', 'TI')\n",
        "e3 = estudiante(201915061, 'Alison Silvestre', 23, 'Zona 1 ', 12345687, 'Alison@gmail.com', 'Ingenieria en Sistemas', 'Programadora')"
      ],
      "execution_count": 4,
      "outputs": []
    },
    {
      "cell_type": "markdown",
      "metadata": {
        "id": "Rif3xiFFOn3y"
      },
      "source": [
        "**Inserción**"
      ]
    },
    {
      "cell_type": "code",
      "metadata": {
        "id": "yUvtufxKOphK"
      },
      "source": [
        "lista_c = lista_circular()\n",
        "lista_c.insertar(e1)\n",
        "lista_c.insertar(e2)\n",
        "lista_c.insertar(e2)"
      ],
      "execution_count": 5,
      "outputs": []
    },
    {
      "cell_type": "markdown",
      "metadata": {
        "id": "qLoVhYI3OvRm"
      },
      "source": [
        ""
      ]
    },
    {
      "cell_type": "code",
      "metadata": {
        "id": "VUbz4NMMu0AV",
        "colab": {
          "base_uri": "https://localhost:8080/"
        },
        "outputId": "200cb554-89db-4744-f428-fe4e28deaf36"
      },
      "source": [
        "lista_c.recorrer()"
      ],
      "execution_count": 6,
      "outputs": [
        {
          "output_type": "stream",
          "text": [
            "carne:  201915059  nombre:  Michelle España email:  Micheleespaña@gmail.com -->\n",
            "carne:  201915060  nombre:  Karen Hurtarte email:  Karen@gmail.com -->\n",
            "carne:  201915060  nombre:  Karen Hurtarte email:  Karen@gmail.com -->\n"
          ],
          "name": "stdout"
        }
      ]
    }
  ]
}